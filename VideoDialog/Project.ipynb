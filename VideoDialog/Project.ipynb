{
 "cells": [
  {
   "cell_type": "markdown",
   "id": "9515d8f2-8d5c-4e18-962d-99015d8540c1",
   "metadata": {},
   "source": [
    "Connection"
   ]
  },
  {
   "cell_type": "code",
   "execution_count": 5,
   "id": "33002c11-93c5-4f22-b619-e696fb4f0df2",
   "metadata": {},
   "outputs": [
    {
     "name": "stdout",
     "output_type": "stream",
     "text": [
      "{'cluster_name': 'docker-cluster',\n",
      " 'cluster_uuid': 'L0dPWzM1RbiGcZAnblOjaA',\n",
      " 'name': 'fea6a945eb61',\n",
      " 'tagline': 'The OpenSearch Project: https://opensearch.org/',\n",
      " 'version': {'build_date': '2025-02-27T01:16:47.726162386Z',\n",
      "             'build_hash': '2e4741fb45d1b150aaeeadf66d41445b23ff5982',\n",
      "             'build_snapshot': False,\n",
      "             'build_type': 'tar',\n",
      "             'distribution': 'opensearch',\n",
      "             'lucene_version': '9.12.1',\n",
      "             'minimum_index_compatibility_version': '7.0.0',\n",
      "             'minimum_wire_compatibility_version': '7.10.0',\n",
      "             'number': '2.19.1'}}\n"
     ]
    }
   ],
   "source": [
    "import urllib3\n",
    "urllib3.disable_warnings()  # Suppress self-signed cert warnings\n",
    "\n",
    "from requests.auth import HTTPBasicAuth\n",
    "import requests\n",
    "import pprint as pp\n",
    "\n",
    "host = 'localhost'\n",
    "port = 9200\n",
    "user = 'admin'\n",
    "password = 'MyStr0ng@Pass'\n",
    "index_name = user\n",
    "\n",
    "url = f\"https://{host}:{port}\"\n",
    "\n",
    "try:\n",
    "    res = requests.get(url, auth=HTTPBasicAuth(user, password), verify=False)\n",
    "    pp.pprint(res.json())\n",
    "except requests.exceptions.RequestException as e:\n",
    "    print(\"Request failed:\", e)\n"
   ]
  },
  {
   "cell_type": "markdown",
   "id": "17d1f4e8-e5b2-44ed-92e4-b9538f9deed0",
   "metadata": {},
   "source": [
    "Load Captions"
   ]
  },
  {
   "cell_type": "code",
   "execution_count": 6,
   "id": "bf633922-a158-443d-9588-54f985223474",
   "metadata": {},
   "outputs": [
    {
     "name": "stdout",
     "output_type": "stream",
     "text": [
      "Selected 49 captions from 5 videos:\n",
      "video_id\n",
      "v_06ofnvq2Hjs    10\n",
      "v_Eilil6FZhK8     9\n",
      "v_Gms3Yt6RrV4     9\n",
      "v_MWdPh6J-YXM    10\n",
      "v_S5kuckj4Ud4    11\n",
      "dtype: int64\n"
     ]
    }
   ],
   "source": [
    "import pandas as pd\n",
    "from scripts.parse_activitynet import load_captions\n",
    "\n",
    "# Load all captions\n",
    "data = load_captions(r\"C:\\Users\\nunoj\\Desktop\\MPWD\\Project\\VideoDialog\\captions\\train.json\")\n",
    "df = pd.DataFrame(data)\n",
    "\n",
    "# Step 1: Find videos that mention \"car\"\n",
    "contains_car = df[df['caption'].str.contains(r'\\bcar\\b', case=False, na=False)]\n",
    "car_video_ids = set(contains_car['video_id'])\n",
    "\n",
    "# Step 2: Get videos with more than 5 captions\n",
    "caption_counts = df['video_id'].value_counts()\n",
    "videos_with_5plus = set(caption_counts[caption_counts > 8].index)\n",
    "\n",
    "# Step 3: Intersection → videos that meet both criteria\n",
    "valid_video_ids = list(car_video_ids & videos_with_5plus)\n",
    "\n",
    "# Step 4: Pick just 5 videos from the intersection\n",
    "five_video_ids = valid_video_ids[:5]  # you can randomize with `random.sample` if needed\n",
    "\n",
    "# Step 5: Get all captions for those 5 videos\n",
    "selected_df = df[df['video_id'].isin(five_video_ids)]\n",
    "\n",
    "# Confirm selection\n",
    "print(f\"Selected {len(selected_df)} captions from 5 videos:\")\n",
    "print(selected_df.groupby(\"video_id\").size())\n"
   ]
  },
  {
   "cell_type": "markdown",
   "id": "1484d6c8-c171-4159-bbb9-62c85a466e0b",
   "metadata": {},
   "source": [
    "Opening Index"
   ]
  },
  {
   "cell_type": "code",
   "execution_count": 8,
   "id": "70c803b7-e567-48c0-8e57-823eb3d28b8f",
   "metadata": {},
   "outputs": [
    {
     "name": "stdout",
     "output_type": "stream",
     "text": [
      "{'acknowledged': True, 'shards_acknowledged': True}\n",
      "\n",
      "----------------------------------------------------------------------------------- INDEX SETTINGS\n",
      "{'admin': {'settings': {'index': {'creation_date': '1744656979538',\n",
      "                                  'knn': 'true',\n",
      "                                  'number_of_replicas': '0',\n",
      "                                  'number_of_shards': '1',\n",
      "                                  'provided_name': 'admin',\n",
      "                                  'refresh_interval': '1s',\n",
      "                                  'replication': {'type': 'DOCUMENT'},\n",
      "                                  'uuid': 'yKKN0QCUTwy--jKn2IBSTg',\n",
      "                                  'version': {'created': '136407927'}}}}}\n",
      "\n",
      "----------------------------------------------------------------------------------- INDEX MAPPINGS\n",
      "{'admin': {'mappings': {'dynamic': 'strict',\n",
      "                        'properties': {'caption': {'analyzer': 'standard',\n",
      "                                                   'type': 'text'},\n",
      "                                       'duration': {'type': 'float'},\n",
      "                                       'end': {'type': 'float'},\n",
      "                                       'start': {'type': 'float'},\n",
      "                                       'video_id': {'type': 'keyword'},\n",
      "                                       'video_url': {'type': 'keyword'}}}}}\n",
      "\n",
      "----------------------------------------------------------------------------------- INDEX #DOCs\n",
      "{'count': 48, '_shards': {'total': 1, 'successful': 1, 'skipped': 0, 'failed': 0}}\n"
     ]
    }
   ],
   "source": [
    "import pprint as pp\n",
    "from opensearchpy import OpenSearch\n",
    "from opensearchpy import helpers\n",
    "\n",
    "# Create the client with SSL/TLS enabled, but hostname verification disabled.\n",
    "client = OpenSearch(\n",
    "    hosts = [{'host': host, 'port': port}],\n",
    "    http_compress = True, # enables gzip compression for request bodies\n",
    "    http_auth = (user, password),\n",
    "    use_ssl = True,\n",
    "    #url_prefix = 'opensearch_v2',\n",
    "    verify_certs = False,\n",
    "    ssl_assert_hostname = False,\n",
    "    ssl_show_warn = False\n",
    ")\n",
    "\n",
    "if client.indices.exists(index_name):\n",
    "\n",
    "    resp = client.indices.open(index = index_name)\n",
    "    print(resp)\n",
    "\n",
    "    print('\\n----------------------------------------------------------------------------------- INDEX SETTINGS')\n",
    "    settings = client.indices.get_settings(index = index_name)\n",
    "    pp.pprint(settings)\n",
    "\n",
    "    print('\\n----------------------------------------------------------------------------------- INDEX MAPPINGS')\n",
    "    mappings = client.indices.get_mapping(index = index_name)\n",
    "    pp.pprint(mappings)\n",
    "\n",
    "    print('\\n----------------------------------------------------------------------------------- INDEX #DOCs')\n",
    "    print(client.count(index = index_name))\n",
    "else:\n",
    "    print(\"Index does not exist.\")\n"
   ]
  },
  {
   "cell_type": "markdown",
   "id": "55066869-f5ad-4a68-9f74-cec20d698726",
   "metadata": {},
   "source": [
    "Close Index"
   ]
  },
  {
   "cell_type": "code",
   "execution_count": null,
   "id": "6f98cfef-c382-47e0-9cfa-8d657050ca7a",
   "metadata": {},
   "outputs": [],
   "source": [
    "resp = client.indices.close(index = index_name)\n",
    "print(resp)"
   ]
  },
  {
   "cell_type": "raw",
   "id": "14ee2b82-1937-4907-bcf5-5d026ef1a26d",
   "metadata": {},
   "source": [
    "Index creation"
   ]
  },
  {
   "cell_type": "code",
   "execution_count": 7,
   "id": "c5ffd49a-62f6-44a9-8495-0eff60a49b7d",
   "metadata": {},
   "outputs": [
    {
     "ename": "NameError",
     "evalue": "name 'client' is not defined",
     "output_type": "error",
     "traceback": [
      "\u001b[1;31m---------------------------------------------------------------------------\u001b[0m",
      "\u001b[1;31mNameError\u001b[0m                                 Traceback (most recent call last)",
      "Cell \u001b[1;32mIn[7], line 34\u001b[0m\n\u001b[0;32m      1\u001b[0m index_body \u001b[38;5;241m=\u001b[39m {\n\u001b[0;32m      2\u001b[0m     \u001b[38;5;124m\"\u001b[39m\u001b[38;5;124msettings\u001b[39m\u001b[38;5;124m\"\u001b[39m: {\n\u001b[0;32m      3\u001b[0m         \u001b[38;5;124m\"\u001b[39m\u001b[38;5;124mindex\u001b[39m\u001b[38;5;124m\"\u001b[39m: {\n\u001b[1;32m   (...)\u001b[0m\n\u001b[0;32m     30\u001b[0m     }\n\u001b[0;32m     31\u001b[0m }\n\u001b[1;32m---> 34\u001b[0m \u001b[38;5;28;01mif\u001b[39;00m \u001b[43mclient\u001b[49m\u001b[38;5;241m.\u001b[39mindices\u001b[38;5;241m.\u001b[39mexists(index\u001b[38;5;241m=\u001b[39mindex_name):\n\u001b[0;32m     35\u001b[0m     \u001b[38;5;28mprint\u001b[39m(\u001b[38;5;124m\"\u001b[39m\u001b[38;5;124mIndex already existed. Nothing to be done.\u001b[39m\u001b[38;5;124m\"\u001b[39m)\n\u001b[0;32m     36\u001b[0m \u001b[38;5;28;01melse\u001b[39;00m:        \n",
      "\u001b[1;31mNameError\u001b[0m: name 'client' is not defined"
     ]
    }
   ],
   "source": [
    "index_body = {\n",
    "    \"settings\": {\n",
    "        \"index\": {\n",
    "            \"number_of_replicas\": 0,\n",
    "            \"number_of_shards\": 1,\n",
    "            \"refresh_interval\": \"1s\",\n",
    "            \"knn\": \"true\"\n",
    "        }\n",
    "    },\n",
    "    \"mappings\": {\n",
    "        \"dynamic\": \"strict\",\n",
    "        \"properties\": {\n",
    "            \"video_id\": {\"type\": \"keyword\"},\n",
    "            \"start\": {\"type\": \"float\"},\n",
    "            \"end\": {\"type\": \"float\"},\n",
    "            \"duration\": {\"type\": \"float\"},\n",
    "            \"caption\": {\"type\": \"text\", \"analyzer\": \"standard\"},\n",
    "            \"video_url\": {\"type\": \"keyword\"},\n",
    "            # For after generating embeddings\n",
    "            # \"caption_vec\": {\n",
    "            #     \"type\": \"knn_vector\",\n",
    "            #     \"dimension\": 512,  # whatever the model uses\n",
    "            #     \"method\": {\n",
    "            #         \"name\": \"hnsw\",\n",
    "            #         \"engine\": \"nmslib\",\n",
    "            #         \"space_type\": \"cosinesimil\"\n",
    "            #     }\n",
    "            # }\n",
    "        }\n",
    "    }\n",
    "}\n",
    "\n",
    "\n",
    "if client.indices.exists(index=index_name):\n",
    "    print(\"Index already existed. Nothing to be done.\")\n",
    "else:        \n",
    "    response = client.indices.create(index_name, body=index_body)\n",
    "    print('\\nCreating index:')\n",
    "    print(response)\n"
   ]
  },
  {
   "cell_type": "markdown",
   "id": "11f29b3b-cd42-4ce7-b0e8-abb263b7709d",
   "metadata": {},
   "source": [
    "Check the index"
   ]
  },
  {
   "cell_type": "code",
   "execution_count": 9,
   "id": "262acbc5-c5e7-42c4-bc08-f8ece0d0ca0e",
   "metadata": {},
   "outputs": [
    {
     "name": "stdout",
     "output_type": "stream",
     "text": [
      "\n",
      "----------------------------------------------------------------------------------- INDEX SETTINGS\n",
      "{'admin': {'aliases': {}}}\n",
      "{'admin': {'settings': {'index': {'creation_date': '1744656979538',\n",
      "                                  'knn': 'true',\n",
      "                                  'number_of_replicas': '0',\n",
      "                                  'number_of_shards': '1',\n",
      "                                  'provided_name': 'admin',\n",
      "                                  'refresh_interval': '1s',\n",
      "                                  'replication': {'type': 'DOCUMENT'},\n",
      "                                  'uuid': 'yKKN0QCUTwy--jKn2IBSTg',\n",
      "                                  'version': {'created': '136407927'}}}}}\n",
      "\n",
      "----------------------------------------------------------------------------------- INDEX MAPPINGS\n",
      "{'admin': {'mappings': {'dynamic': 'strict',\n",
      "                        'properties': {'caption': {'analyzer': 'standard',\n",
      "                                                   'type': 'text'},\n",
      "                                       'duration': {'type': 'float'},\n",
      "                                       'end': {'type': 'float'},\n",
      "                                       'start': {'type': 'float'},\n",
      "                                       'video_id': {'type': 'keyword'},\n",
      "                                       'video_url': {'type': 'keyword'}}}}}\n",
      "\n",
      "----------------------------------------------------------------------------------- INDEX #DOCs\n",
      "{'count': 48, '_shards': {'total': 1, 'successful': 1, 'skipped': 0, 'failed': 0}}\n"
     ]
    }
   ],
   "source": [
    "print('\\n----------------------------------------------------------------------------------- INDEX SETTINGS')\n",
    "index_settings = {\n",
    "    \"settings\":{\n",
    "      \"index\":{\n",
    "         \"refresh_interval\" : \"1s\"\n",
    "      }\n",
    "   }\n",
    "}\n",
    "pp.pprint(client.indices.get_alias(index_name))\n",
    "\n",
    "client.indices.put_settings(index = index_name, body = index_settings)\n",
    "settings = client.indices.get_settings(index = index_name)\n",
    "pp.pprint(settings)\n",
    "\n",
    "print('\\n----------------------------------------------------------------------------------- INDEX MAPPINGS')\n",
    "mappings = client.indices.get_mapping(index = index_name)\n",
    "pp.pprint(mappings)\n",
    "\n",
    "print('\\n----------------------------------------------------------------------------------- INDEX #DOCs')\n",
    "print(client.count(index = index_name))"
   ]
  },
  {
   "cell_type": "markdown",
   "id": "d6e7d13d-5a5f-40fc-a087-d24f01d1de85",
   "metadata": {},
   "source": [
    " Index deletion"
   ]
  },
  {
   "cell_type": "code",
   "execution_count": null,
   "id": "30899134-d6fd-4163-b1c3-2d08c4cfba3e",
   "metadata": {},
   "outputs": [],
   "source": [
    "This line is here to prevent you from inadvertently deleting data.\n",
    "\n",
    "if client.indices.exists(index=index_name):\n",
    "    # Delete the index.\n",
    "    response = client.indices.delete(\n",
    "        index = index_name\n",
    "    )\n",
    "    print('\\nDeleting index:')\n",
    "    print(response)"
   ]
  },
  {
   "cell_type": "markdown",
   "id": "484661e8-54f3-41f2-8bf3-5385180bb958",
   "metadata": {},
   "source": [
    "Built-in document tokenizers and analyzers"
   ]
  },
  {
   "cell_type": "code",
   "execution_count": 18,
   "id": "83775ed4-cebb-4b34-89bf-b44c10244754",
   "metadata": {},
   "outputs": [
    {
     "data": {
      "text/plain": [
       "{'tokens': [{'token': 'The',\n",
       "   'start_offset': 0,\n",
       "   'end_offset': 3,\n",
       "   'type': 'word',\n",
       "   'position': 0},\n",
       "  {'token': 'car',\n",
       "   'start_offset': 4,\n",
       "   'end_offset': 7,\n",
       "   'type': 'word',\n",
       "   'position': 1},\n",
       "  {'token': 'speeds',\n",
       "   'start_offset': 8,\n",
       "   'end_offset': 14,\n",
       "   'type': 'word',\n",
       "   'position': 2},\n",
       "  {'token': 'down',\n",
       "   'start_offset': 15,\n",
       "   'end_offset': 19,\n",
       "   'type': 'word',\n",
       "   'position': 3},\n",
       "  {'token': 'the',\n",
       "   'start_offset': 20,\n",
       "   'end_offset': 23,\n",
       "   'type': 'word',\n",
       "   'position': 4},\n",
       "  {'token': 'highway',\n",
       "   'start_offset': 24,\n",
       "   'end_offset': 31,\n",
       "   'type': 'word',\n",
       "   'position': 5}]}"
      ]
     },
     "execution_count": 18,
     "metadata": {},
     "output_type": "execute_result"
    }
   ],
   "source": [
    "anls = {\n",
    "  \"analyzer\": \"whitespace\",\n",
    "  \"text\": \"The car speeds down the highway\"\n",
    "}\n",
    "client.indices.analyze(body=anls, index=index_name)"
   ]
  },
  {
   "cell_type": "code",
   "execution_count": null,
   "id": "367e4df3-b24a-4901-aa2b-6ef20f925a86",
   "metadata": {},
   "outputs": [],
   "source": [
    "anls = {\n",
    "  \"analyzer\": \"standard\",\n",
    "  \"text\": \"The car speeds down the highway\"\n",
    "}\n",
    "client.indices.analyze(body=anls, index=index_name)\n"
   ]
  },
  {
   "cell_type": "code",
   "execution_count": 19,
   "id": "9f2e6fca-9166-4c43-9188-d686073819b5",
   "metadata": {},
   "outputs": [
    {
     "name": "stdout",
     "output_type": "stream",
     "text": [
      "updated\n",
      "updated\n",
      "updated\n",
      "updated\n",
      "updated\n",
      "updated\n",
      "updated\n",
      "updated\n",
      "updated\n",
      "updated\n",
      "updated\n",
      "updated\n",
      "updated\n",
      "updated\n",
      "updated\n",
      "updated\n",
      "updated\n",
      "updated\n",
      "updated\n",
      "updated\n",
      "updated\n",
      "updated\n",
      "updated\n",
      "updated\n",
      "updated\n",
      "updated\n",
      "updated\n",
      "updated\n",
      "updated\n",
      "updated\n",
      "updated\n",
      "updated\n",
      "updated\n",
      "updated\n",
      "updated\n",
      "updated\n",
      "updated\n",
      "updated\n",
      "updated\n",
      "updated\n",
      "updated\n",
      "updated\n",
      "updated\n",
      "updated\n",
      "updated\n",
      "updated\n",
      "updated\n",
      "updated\n",
      "updated\n"
     ]
    }
   ],
   "source": [
    "for idx, row in selected_df.iterrows():\n",
    "    moment = {\n",
    "        'video_id': row['video_id'],\n",
    "        'caption': row['caption'],\n",
    "        'start': row['start'],\n",
    "        'end': row['end'],\n",
    "        'duration': row['duration'],\n",
    "        'video_url': row['video_url'],\n",
    "    }\n",
    "    \n",
    "    response = client.index(index=index_name, id=f\"{row['video_id']}_{row['start']}\", body=moment)\n",
    "    print(response['result'])\n"
   ]
  },
  {
   "cell_type": "markdown",
   "id": "0c11953e-baf7-452c-bcfe-11f77c8fca16",
   "metadata": {},
   "source": [
    "## Deleting a single document"
   ]
  },
  {
   "cell_type": "code",
   "execution_count": null,
   "id": "e3f79a2b-d68d-4d3a-b7f3-8a849dfe953b",
   "metadata": {},
   "outputs": [],
   "source": [
    "This line is here to prevent you from inadvertently deleting data.\n",
    "\n",
    "response = client.delete(\n",
    "    index = index_name,\n",
    "    id = id\n",
    ")\n",
    "\n",
    "print('\\nDeleting document:')\n",
    "print(response)"
   ]
  },
  {
   "cell_type": "markdown",
   "id": "c14e9316-4dbd-4029-bfe8-dbc1b1743100",
   "metadata": {},
   "source": [
    "Text-based search"
   ]
  },
  {
   "cell_type": "code",
   "execution_count": 21,
   "id": "4d442577-dbe9-405b-ab9a-dd93c9778f5e",
   "metadata": {},
   "outputs": [
    {
     "name": "stdout",
     "output_type": "stream",
     "text": [
      "\n",
      "Search results:\n",
      "-  The man puts the spare tire in the car and gets in the car. (video: v_S5kuckj4Ud4, time: 172.53s → 195.53s)\n",
      "-  A man cleans snow off a car. (video: v_9V7cMp_w1_0, time: 75.06s → 94.49s)\n",
      "-  A car drives away from the camera. (video: v_9V7cMp_w1_0, time: 147.47s → 150.12s)\n",
      "-  We see a cop car on the street. (video: v_06ofnvq2Hjs, time: 92.59s → 96.66s)\n",
      "-  The camera shows several men in a car. (video: v_MWdPh6J-YXM, time: 96.04s → 96.9s)\n"
     ]
    }
   ],
   "source": [
    "qtxt = \"fast car\"\n",
    "\n",
    "query_bm25 = {\n",
    "  'size': 5,\n",
    "  '_source': ['caption', 'video_id', 'start', 'end', 'video_url'],\n",
    "  'query': {\n",
    "    'multi_match': {\n",
    "      'query': qtxt,\n",
    "      'fields': ['caption']\n",
    "    }\n",
    "  }\n",
    "}\n",
    "\n",
    "response = client.search(\n",
    "    body=query_bm25,\n",
    "    index=index_name\n",
    ")\n",
    "\n",
    "print('\\nSearch results:')\n",
    "for hit in response['hits']['hits']:\n",
    "    source = hit['_source']\n",
    "    print(f\"- {source['caption']} (video: {source['video_id']}, time: {source['start']}s → {source['end']}s)\")\n"
   ]
  },
  {
   "cell_type": "markdown",
   "id": "8b1bc40d-4ae1-441a-9440-38e905cb3ff8",
   "metadata": {},
   "source": [
    "Term-based search"
   ]
  },
  {
   "cell_type": "code",
   "execution_count": 35,
   "id": "7b0538f7-0903-443c-8f2e-931029cca7cb",
   "metadata": {},
   "outputs": [
    {
     "name": "stdout",
     "output_type": "stream",
     "text": [
      "\n",
      "Search results:\n",
      "-  A lady holds up a USA Flag and talks.\n",
      "-  We see a cop car on the street.\n",
      "-  We see Anthony Shetler sitting and talking before skating on the street.\n",
      "-  A man jumps stairs and falls.\n",
      "-  We see the ending credits for the video.\n",
      "- We see images which were  shot around DC.\n",
      "-  We see a man talking and shots of skateboards as people assemble in a room.\n",
      "-  We see Tony Hawk who points to other people.\n",
      "-  We see people skateboarding in the street, and around DC.\n",
      "-  We see a skater named Shaun Gregoirie.\n"
     ]
    }
   ],
   "source": [
    "query_bm25 = {\n",
    "  'size':10,\n",
    "  '_source': ['caption'],\n",
    "  'query': {\n",
    "        \"term\": {\n",
    "            \"video_id\" : 'v_06ofnvq2Hjs'\n",
    "        }\n",
    "   }\n",
    "}\n",
    "\n",
    "response = client.search(\n",
    "    body = query_bm25,\n",
    "    index = index_name\n",
    ")\n",
    "\n",
    "print('\\nSearch results:')\n",
    "for hit in response['hits']['hits']:\n",
    "    source = hit['_source']\n",
    "    print(f\"- {source['caption']}\")\n"
   ]
  },
  {
   "cell_type": "markdown",
   "id": "0b65b1a8-c5b4-4687-9558-b92eee5c560c",
   "metadata": {},
   "source": [
    "Bool-based search"
   ]
  },
  {
   "cell_type": "code",
   "execution_count": 37,
   "id": "56deb6ec-443f-40d6-bb8e-86f3d2204ffb",
   "metadata": {},
   "outputs": [
    {
     "name": "stdout",
     "output_type": "stream",
     "text": [
      "\n",
      "Search results:\n",
      "-  We see a cop car on the street.\n",
      "-  A lady holds up a USA Flag and talks.\n",
      "-  We see Anthony Shetler sitting and talking before skating on the street.\n",
      "-  A man jumps stairs and falls.\n",
      "-  We see the ending credits for the video.\n",
      "- We see images which were  shot around DC.\n",
      "-  We see a man talking and shots of skateboards as people assemble in a room.\n",
      "-  We see Tony Hawk who points to other people.\n",
      "-  We see people skateboarding in the street, and around DC.\n",
      "-  We see a skater named Shaun Gregoirie.\n"
     ]
    }
   ],
   "source": [
    "query_bm25 = {\n",
    "  'size': 10,\n",
    "  '_source': ['caption'],\n",
    "  'query': {\n",
    "    'bool': {\n",
    "      'must': [\n",
    "        { 'term': { 'video_id': 'v_06ofnvq2Hjs' } }\n",
    "      ],\n",
    "      'should': [\n",
    "        { 'match': { 'caption': 'car' } }\n",
    "      ]\n",
    "    }\n",
    "  }\n",
    "}\n",
    "\n",
    "response = client.search(\n",
    "    body=query_bm25,\n",
    "    index=index_name\n",
    ")\n",
    "\n",
    "print('\\nSearch results:')\n",
    "for hit in response['hits']['hits']:\n",
    "    source = hit['_source']\n",
    "    print(f\"- {source['caption']}\")\n"
   ]
  },
  {
   "cell_type": "code",
   "execution_count": null,
   "id": "bd0f10dd-1e99-4f40-9117-97888b74cd80",
   "metadata": {},
   "outputs": [],
   "source": []
  }
 ],
 "metadata": {
  "kernelspec": {
   "display_name": "nlp-cv-ir",
   "language": "python",
   "name": "nlp-cv-ir"
  },
  "language_info": {
   "codemirror_mode": {
    "name": "ipython",
    "version": 3
   },
   "file_extension": ".py",
   "mimetype": "text/x-python",
   "name": "python",
   "nbconvert_exporter": "python",
   "pygments_lexer": "ipython3",
   "version": "3.9.21"
  }
 },
 "nbformat": 4,
 "nbformat_minor": 5
}
