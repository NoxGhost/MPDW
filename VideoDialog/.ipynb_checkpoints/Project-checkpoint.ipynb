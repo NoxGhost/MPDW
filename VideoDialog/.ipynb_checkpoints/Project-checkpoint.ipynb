{
 "cells": [
  {
   "cell_type": "markdown",
   "id": "9515d8f2-8d5c-4e18-962d-99015d8540c1",
   "metadata": {},
   "source": [
    "Connection"
   ]
  },
  {
   "cell_type": "markdown",
   "id": "17d1f4e8-e5b2-44ed-92e4-b9538f9deed0",
   "metadata": {},
   "source": [
    "Load Captions"
   ]
  },
  {
   "cell_type": "code",
   "execution_count": 10,
   "id": "33002c11-93c5-4f22-b619-e696fb4f0df2",
   "metadata": {},
   "outputs": [
    {
     "name": "stdout",
     "output_type": "stream",
     "text": [
      "{'cluster_name': 'docker-cluster',\n",
      " 'cluster_uuid': 'JIYaW0ZRQXidTmirTfBFlw',\n",
      " 'name': 'c662945a550d',\n",
      " 'tagline': 'The OpenSearch Project: https://opensearch.org/',\n",
      " 'version': {'build_date': '2025-02-27T01:16:47.726162386Z',\n",
      "             'build_hash': '2e4741fb45d1b150aaeeadf66d41445b23ff5982',\n",
      "             'build_snapshot': False,\n",
      "             'build_type': 'tar',\n",
      "             'distribution': 'opensearch',\n",
      "             'lucene_version': '9.12.1',\n",
      "             'minimum_index_compatibility_version': '7.0.0',\n",
      "             'minimum_wire_compatibility_version': '7.10.0',\n",
      "             'number': '2.19.1'}}\n"
     ]
    }
   ],
   "source": [
    "import urllib3\n",
    "urllib3.disable_warnings()  # Suppress self-signed cert warnings\n",
    "\n",
    "from requests.auth import HTTPBasicAuth\n",
    "import requests\n",
    "import pprint as pp\n",
    "\n",
    "host = 'localhost'\n",
    "port = 9200\n",
    "user = 'admin'\n",
    "password = 'MyStr0ng@Pass'\n",
    "\n",
    "url = f\"https://{host}:{port}\"\n",
    "\n",
    "try:\n",
    "    res = requests.get(url, auth=HTTPBasicAuth(user, password), verify=False)\n",
    "    pp.pprint(res.json())\n",
    "except requests.exceptions.RequestException as e:\n",
    "    print(\"Request failed:\", e)\n"
   ]
  },
  {
   "cell_type": "code",
   "execution_count": 31,
   "id": "bf633922-a158-443d-9588-54f985223474",
   "metadata": {},
   "outputs": [
    {
     "name": "stdout",
     "output_type": "stream",
     "text": [
      "110 captions from 43 videos matched.\n"
     ]
    },
    {
     "data": {
      "text/html": [
       "<div>\n",
       "<style scoped>\n",
       "    .dataframe tbody tr th:only-of-type {\n",
       "        vertical-align: middle;\n",
       "    }\n",
       "\n",
       "    .dataframe tbody tr th {\n",
       "        vertical-align: top;\n",
       "    }\n",
       "\n",
       "    .dataframe thead th {\n",
       "        text-align: right;\n",
       "    }\n",
       "</style>\n",
       "<table border=\"1\" class=\"dataframe\">\n",
       "  <thead>\n",
       "    <tr style=\"text-align: right;\">\n",
       "      <th></th>\n",
       "      <th>video_id</th>\n",
       "      <th>duration</th>\n",
       "      <th>start</th>\n",
       "      <th>end</th>\n",
       "      <th>caption</th>\n",
       "      <th>video_url</th>\n",
       "    </tr>\n",
       "  </thead>\n",
       "  <tbody>\n",
       "    <tr>\n",
       "      <th>725</th>\n",
       "      <td>v_9V7cMp_w1_0</td>\n",
       "      <td>176.61</td>\n",
       "      <td>75.06</td>\n",
       "      <td>94.49</td>\n",
       "      <td>A man cleans snow off a car.</td>\n",
       "      <td>https://www.youtube.com/watch?v=9V7cMp_w1_0</td>\n",
       "    </tr>\n",
       "    <tr>\n",
       "      <th>729</th>\n",
       "      <td>v_9V7cMp_w1_0</td>\n",
       "      <td>176.61</td>\n",
       "      <td>147.47</td>\n",
       "      <td>150.12</td>\n",
       "      <td>A car drives away from the camera.</td>\n",
       "      <td>https://www.youtube.com/watch?v=9V7cMp_w1_0</td>\n",
       "    </tr>\n",
       "    <tr>\n",
       "      <th>1631</th>\n",
       "      <td>v_kWPvAxLzGw8</td>\n",
       "      <td>206.89</td>\n",
       "      <td>38.27</td>\n",
       "      <td>41.38</td>\n",
       "      <td>She is riding in a car.</td>\n",
       "      <td>https://www.youtube.com/watch?v=kWPvAxLzGw8</td>\n",
       "    </tr>\n",
       "    <tr>\n",
       "      <th>3033</th>\n",
       "      <td>v_DAd-joUpMIk</td>\n",
       "      <td>100.45</td>\n",
       "      <td>17.08</td>\n",
       "      <td>35.66</td>\n",
       "      <td>A woman is getting ready too bungee jump from ...</td>\n",
       "      <td>https://www.youtube.com/watch?v=DAd-joUpMIk</td>\n",
       "    </tr>\n",
       "    <tr>\n",
       "      <th>3038</th>\n",
       "      <td>v_DAd-joUpMIk</td>\n",
       "      <td>100.45</td>\n",
       "      <td>77.85</td>\n",
       "      <td>90.91</td>\n",
       "      <td>There is another woman in the cable car getti...</td>\n",
       "      <td>https://www.youtube.com/watch?v=DAd-joUpMIk</td>\n",
       "    </tr>\n",
       "  </tbody>\n",
       "</table>\n",
       "</div>"
      ],
      "text/plain": [
       "           video_id  duration   start     end  \\\n",
       "725   v_9V7cMp_w1_0    176.61   75.06   94.49   \n",
       "729   v_9V7cMp_w1_0    176.61  147.47  150.12   \n",
       "1631  v_kWPvAxLzGw8    206.89   38.27   41.38   \n",
       "3033  v_DAd-joUpMIk    100.45   17.08   35.66   \n",
       "3038  v_DAd-joUpMIk    100.45   77.85   90.91   \n",
       "\n",
       "                                                caption  \\\n",
       "725                        A man cleans snow off a car.   \n",
       "729                  A car drives away from the camera.   \n",
       "1631                            She is riding in a car.   \n",
       "3033  A woman is getting ready too bungee jump from ...   \n",
       "3038   There is another woman in the cable car getti...   \n",
       "\n",
       "                                        video_url  \n",
       "725   https://www.youtube.com/watch?v=9V7cMp_w1_0  \n",
       "729   https://www.youtube.com/watch?v=9V7cMp_w1_0  \n",
       "1631  https://www.youtube.com/watch?v=kWPvAxLzGw8  \n",
       "3033  https://www.youtube.com/watch?v=DAd-joUpMIk  \n",
       "3038  https://www.youtube.com/watch?v=DAd-joUpMIk  "
      ]
     },
     "execution_count": 31,
     "metadata": {},
     "output_type": "execute_result"
    }
   ],
   "source": [
    "import pandas as pd\n",
    "from scripts.parse_activitynet import load_captions\n",
    "\n",
    "data = load_captions(r\"C:\\Users\\nunoj\\Desktop\\MPWD\\Project\\VideoDialog\\captions\\train.json\")\n",
    "df = pd.DataFrame(data)\n",
    "\n",
    "# Captions that contain the word \"car\"\n",
    "contains_car = df[df['caption'].str.contains(r'\\bcar\\b', case=False, na=False)]\n",
    "\n",
    "# Videos with more than 5 captions\n",
    "caption_counts = df['video_id'].value_counts()\n",
    "videos_with_5plus = caption_counts[caption_counts > 5].index\n",
    "\n",
    "# Final filtered DataFrame\n",
    "filtered_df = contains_car[contains_car['video_id'].isin(videos_with_5plus)]\n",
    "\n",
    "print(f\"{len(filtered_df)} captions from {filtered_df['video_id'].nunique()} videos matched.\")\n",
    "filtered_df.head(5)\n",
    "\n"
   ]
  },
  {
   "cell_type": "markdown",
   "id": "1484d6c8-c171-4159-bbb9-62c85a466e0b",
   "metadata": {},
   "source": [
    "Opening Index"
   ]
  },
  {
   "cell_type": "code",
   "execution_count": 11,
   "id": "70c803b7-e567-48c0-8e57-823eb3d28b8f",
   "metadata": {},
   "outputs": [
    {
     "name": "stdout",
     "output_type": "stream",
     "text": [
      "Index does not exist.\n"
     ]
    }
   ],
   "source": [
    "import pprint as pp\n",
    "from opensearchpy import OpenSearch\n",
    "from opensearchpy import helpers\n",
    "\n",
    "# Create the client with SSL/TLS enabled, but hostname verification disabled.\n",
    "client = OpenSearch(\n",
    "    hosts = [{'host': host, 'port': port}],\n",
    "    http_compress = True, # enables gzip compression for request bodies\n",
    "    http_auth = (user, password),\n",
    "    use_ssl = True,\n",
    "    #url_prefix = 'opensearch_v2',\n",
    "    verify_certs = False,\n",
    "    ssl_assert_hostname = False,\n",
    "    ssl_show_warn = False\n",
    ")\n",
    "\n",
    "if client.indices.exists(index_name):\n",
    "\n",
    "    resp = client.indices.open(index = index_name)\n",
    "    print(resp)\n",
    "\n",
    "    print('\\n----------------------------------------------------------------------------------- INDEX SETTINGS')\n",
    "    settings = client.indices.get_settings(index = index_name)\n",
    "    pp.pprint(settings)\n",
    "\n",
    "    print('\\n----------------------------------------------------------------------------------- INDEX MAPPINGS')\n",
    "    mappings = client.indices.get_mapping(index = index_name)\n",
    "    pp.pprint(mappings)\n",
    "\n",
    "    print('\\n----------------------------------------------------------------------------------- INDEX #DOCs')\n",
    "    print(client.count(index = index_name))\n",
    "else:\n",
    "    print(\"Index does not exist.\")\n"
   ]
  },
  {
   "cell_type": "markdown",
   "id": "55066869-f5ad-4a68-9f74-cec20d698726",
   "metadata": {},
   "source": [
    "Close"
   ]
  },
  {
   "cell_type": "code",
   "execution_count": null,
   "id": "6f98cfef-c382-47e0-9cfa-8d657050ca7a",
   "metadata": {},
   "outputs": [],
   "source": [
    "resp = client.indices.close(index = index_name)\n",
    "print(resp)"
   ]
  },
  {
   "cell_type": "raw",
   "id": "14ee2b82-1937-4907-bcf5-5d026ef1a26d",
   "metadata": {},
   "source": [
    "Index creation"
   ]
  },
  {
   "cell_type": "code",
   "execution_count": 25,
   "id": "c5ffd49a-62f6-44a9-8495-0eff60a49b7d",
   "metadata": {},
   "outputs": [
    {
     "name": "stdout",
     "output_type": "stream",
     "text": [
      "\n",
      "Creating index:\n",
      "{'acknowledged': True, 'shards_acknowledged': True, 'index': 'user02'}\n"
     ]
    }
   ],
   "source": [
    "index_body = {\n",
    "    \"settings\": {\n",
    "        \"index\": {\n",
    "            \"number_of_replicas\": 0,\n",
    "            \"number_of_shards\": 1,\n",
    "            \"refresh_interval\": \"1s\",\n",
    "            \"knn\": \"true\"\n",
    "        }\n",
    "    },\n",
    "    \"mappings\": {\n",
    "        \"dynamic\": \"strict\",\n",
    "        \"properties\": {\n",
    "            \"video_id\": {\"type\": \"keyword\"},\n",
    "            \"start\": {\"type\": \"float\"},\n",
    "            \"end\": {\"type\": \"float\"},\n",
    "            \"duration\": {\"type\": \"float\"},\n",
    "            \"caption\": {\"type\": \"text\", \"analyzer\": \"standard\"},\n",
    "            \"video_url\": {\"type\": \"keyword\"},\n",
    "            # For after generating embeddings\n",
    "            # \"caption_vec\": {\n",
    "            #     \"type\": \"knn_vector\",\n",
    "            #     \"dimension\": 512,  # whatever the model uses\n",
    "            #     \"method\": {\n",
    "            #         \"name\": \"hnsw\",\n",
    "            #         \"engine\": \"nmslib\",\n",
    "            #         \"space_type\": \"cosinesimil\"\n",
    "            #     }\n",
    "            # }\n",
    "        }\n",
    "    }\n",
    "}\n",
    "\n",
    "\n",
    "if client.indices.exists(index=index_name):\n",
    "    print(\"Index already existed. Nothing to be done.\")\n",
    "else:        \n",
    "    response = client.indices.create(index_name, body=index_body)\n",
    "    print('\\nCreating index:')\n",
    "    print(response)\n"
   ]
  },
  {
   "cell_type": "markdown",
   "id": "11f29b3b-cd42-4ce7-b0e8-abb263b7709d",
   "metadata": {},
   "source": [
    "Check the index"
   ]
  },
  {
   "cell_type": "code",
   "execution_count": null,
   "id": "262acbc5-c5e7-42c4-bc08-f8ece0d0ca0e",
   "metadata": {},
   "outputs": [],
   "source": [
    "print('\\n----------------------------------------------------------------------------------- INDEX SETTINGS')\n",
    "index_settings = {\n",
    "    \"settings\":{\n",
    "      \"index\":{\n",
    "         \"refresh_interval\" : \"1s\"\n",
    "      }\n",
    "   }\n",
    "}\n",
    "pp.pprint(client.indices.get_alias(index_name))\n",
    "\n",
    "client.indices.put_settings(index = index_name, body = index_settings)\n",
    "settings = client.indices.get_settings(index = index_name)\n",
    "pp.pprint(settings)\n",
    "\n",
    "print('\\n----------------------------------------------------------------------------------- INDEX MAPPINGS')\n",
    "mappings = client.indices.get_mapping(index = index_name)\n",
    "pp.pprint(mappings)\n",
    "\n",
    "print('\\n----------------------------------------------------------------------------------- INDEX #DOCs')\n",
    "print(client.count(index = index_name))"
   ]
  },
  {
   "cell_type": "markdown",
   "id": "d6e7d13d-5a5f-40fc-a087-d24f01d1de85",
   "metadata": {},
   "source": [
    " Index deletion"
   ]
  },
  {
   "cell_type": "code",
   "execution_count": null,
   "id": "30899134-d6fd-4163-b1c3-2d08c4cfba3e",
   "metadata": {},
   "outputs": [],
   "source": [
    "This line is here to prevent you from inadvertently deleting data.\n",
    "\n",
    "if client.indices.exists(index=index_name):\n",
    "    # Delete the index.\n",
    "    response = client.indices.delete(\n",
    "        index = index_name\n",
    "    )\n",
    "    print('\\nDeleting index:')\n",
    "    print(response)"
   ]
  },
  {
   "cell_type": "markdown",
   "id": "484661e8-54f3-41f2-8bf3-5385180bb958",
   "metadata": {},
   "source": [
    "Built-in document tokenizers and analyzers"
   ]
  },
  {
   "cell_type": "code",
   "execution_count": null,
   "id": "83775ed4-cebb-4b34-89bf-b44c10244754",
   "metadata": {},
   "outputs": [],
   "source": [
    "anls = {\n",
    "  \"analyzer\": \"whitespace\",\n",
    "  \"text\": \"The car speeds down the highway\"\n",
    "}\n",
    "client.indices.analyze(body=anls, index=index_name)"
   ]
  },
  {
   "cell_type": "code",
   "execution_count": null,
   "id": "367e4df3-b24a-4901-aa2b-6ef20f925a86",
   "metadata": {},
   "outputs": [],
   "source": [
    "anls = {\n",
    "  \"analyzer\": \"standard\",\n",
    "  \"text\": \"The car speeds down the highway\"\n",
    "}\n",
    "client.indices.analyze(body=anls, index=index_name)\n"
   ]
  },
  {
   "cell_type": "code",
   "execution_count": 30,
   "id": "9f2e6fca-9166-4c43-9188-d686073819b5",
   "metadata": {},
   "outputs": [
    {
     "name": "stdout",
     "output_type": "stream",
     "text": [
      "created\n",
      "created\n",
      "created\n",
      "created\n",
      "created\n",
      "created\n",
      "created\n",
      "created\n",
      "created\n",
      "created\n",
      "created\n",
      "created\n",
      "created\n",
      "created\n",
      "created\n",
      "created\n",
      "created\n",
      "created\n",
      "created\n",
      "created\n",
      "created\n",
      "created\n",
      "created\n"
     ]
    }
   ],
   "source": [
    "for idx, row in filtered_df.iterrows():\n",
    "    moment = {\n",
    "        'video_id': row['video_id'],\n",
    "        'caption': row['caption'],\n",
    "        'start': row['start'],\n",
    "        'end': row['end'],\n",
    "        'duration': row['duration'],\n",
    "        'video_url': row['video_url'],\n",
    "    }\n",
    "    \n",
    "    response = client.index(index=index_name, id=f\"{row['video_id']}_{row['start']}\", body=moment)\n",
    "    print(response['result'])\n"
   ]
  },
  {
   "cell_type": "markdown",
   "id": "0c11953e-baf7-452c-bcfe-11f77c8fca16",
   "metadata": {},
   "source": [
    "## Deleting a single document"
   ]
  },
  {
   "cell_type": "code",
   "execution_count": null,
   "id": "e3f79a2b-d68d-4d3a-b7f3-8a849dfe953b",
   "metadata": {},
   "outputs": [],
   "source": [
    "This line is here to prevent you from inadvertently deleting data.\n",
    "\n",
    "response = client.delete(\n",
    "    index = index_name,\n",
    "    id = id\n",
    ")\n",
    "\n",
    "print('\\nDeleting document:')\n",
    "print(response)"
   ]
  },
  {
   "cell_type": "code",
   "execution_count": null,
   "id": "330d5576-87d7-44d7-8be9-4c35eec9538e",
   "metadata": {},
   "outputs": [],
   "source": []
  },
  {
   "cell_type": "code",
   "execution_count": null,
   "id": "4d442577-dbe9-405b-ab9a-dd93c9778f5e",
   "metadata": {},
   "outputs": [],
   "source": []
  }
 ],
 "metadata": {
  "kernelspec": {
   "display_name": "nlp-cv-ir",
   "language": "python",
   "name": "nlp-cv-ir"
  },
  "language_info": {
   "codemirror_mode": {
    "name": "ipython",
    "version": 3
   },
   "file_extension": ".py",
   "mimetype": "text/x-python",
   "name": "python",
   "nbconvert_exporter": "python",
   "pygments_lexer": "ipython3",
   "version": "3.9.21"
  }
 },
 "nbformat": 4,
 "nbformat_minor": 5
}
