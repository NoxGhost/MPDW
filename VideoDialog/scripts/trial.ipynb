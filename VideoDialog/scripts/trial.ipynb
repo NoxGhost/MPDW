{
 "cells": [
  {
   "cell_type": "code",
   "execution_count": 8,
   "id": "8ff71392-36a9-4f13-9bbd-384643f90f11",
   "metadata": {},
   "outputs": [
    {
     "name": "stdout",
     "output_type": "stream",
     "text": [
      "Loaded 37421 captions.\n",
      "{'video_id': 'v_QOlSCBRmfWY', 'duration': 82.73, 'start': 17.37, 'end': 60.81, 'caption': ' The girl dances around the room while the camera captures her movements.', 'video_url': 'https://www.youtube.com/watch?v=QOlSCBRmfWY'}\n"
     ]
    }
   ],
   "source": [
    "import json\n",
    "import os\n",
    "\n",
    "def load_captions(file_path):\n",
    "    with open(file_path, 'r', encoding='utf-8') as f:\n",
    "        data = json.load(f)\n",
    "\n",
    "    result = []\n",
    "    for vid, meta in data.items():\n",
    "        for (start, end), sentence in zip(meta['timestamps'], meta['sentences']):\n",
    "            result.append({\n",
    "                \"video_id\": vid,\n",
    "                \"duration\": meta[\"duration\"],\n",
    "                \"start\": start,\n",
    "                \"end\": end,\n",
    "                \"caption\": sentence,\n",
    "                \"video_url\": f\"https://www.youtube.com/watch?v={vid[2:]}\"\n",
    "            })\n",
    "\n",
    "    return result\n",
    "\n",
    "# Example usage\n",
    "if __name__ == \"__main__\":\n",
    "    dataset = load_captions(r\"C:\\Users\\nunoj\\Desktop\\MPWD\\Project\\VideoDialog\\captions\\train.json\")\n",
    "    print(f\"Loaded {len(dataset)} captions.\")\n",
    "    print(dataset[1])\n"
   ]
  },
  {
   "cell_type": "code",
   "execution_count": null,
   "id": "47626452-3cd4-4c5f-aab9-5f0ebd3ddc4a",
   "metadata": {},
   "outputs": [],
   "source": []
  }
 ],
 "metadata": {
  "kernelspec": {
   "display_name": "nlp-cv-ir",
   "language": "python",
   "name": "nlp-cv-ir"
  },
  "language_info": {
   "codemirror_mode": {
    "name": "ipython",
    "version": 3
   },
   "file_extension": ".py",
   "mimetype": "text/x-python",
   "name": "python",
   "nbconvert_exporter": "python",
   "pygments_lexer": "ipython3",
   "version": "3.9.21"
  }
 },
 "nbformat": 4,
 "nbformat_minor": 5
}
